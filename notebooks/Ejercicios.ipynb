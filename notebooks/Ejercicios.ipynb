{
 "cells": [
  {
   "cell_type": "code",
   "execution_count": null,
   "metadata": {},
   "outputs": [],
   "source": [
    "\n",
    "import sys\n",
    "import os\n",
    "sys.path.append(os.path.abspath(\"../src\"))\n",
    "from funciones.vocales import verificar_vocal\n",
    "\n",
    "zen_text = \"\"\"\"     \n",
    "The Zen of Python, by Tim Peters\n",
    "\n",
    "Beautiful is better than ugly.\n",
    "Explicit is better than implicit.\n",
    "Simple is better than complex.\n",
    "Complex is better than complicated.\n",
    "Flat is better than nested.\n",
    "Sparse is better than dense.\n",
    "Readability counts.\n",
    "Special cases aren't special enough to break the rules.\n",
    "Although practicality beats purity.\n",
    "Errors should never pass silently.\n",
    "Unless explicitly silenced.\n",
    "In the face of ambiguity, refuse the temptation to guess.\n",
    "There should be one-- and preferably only one --obvious way to do it.\n",
    "Although that way may not be obvious at first unless you're Dutch.\n",
    "Now is better than never.\n",
    "Although never is often better than right now.\n",
    "If the implementation is hard to explain, it's a bad idea.\n",
    "If the implementation is easy to explain, it may be a good idea.\n",
    "Namespaces are one honking great idea -- let's do more of those!\n",
    "\"\"\"\n",
    "texto = (zen_text.splitlines()) # divido el texto en renglones\n",
    "lista = ('A','E','I','O','U','a','e','i','o','u') #me guardo las vocales a buscar en las segundas palabras de mi\n",
    "\n",
    "for renglon in texto: #voy a recorrer la lista de palabras separas por lineas\n",
    "    if verificar_vocal(renglon,lista): # invoco a la funcion\n",
    "        print(renglon)"
   ]
  },
  {
   "cell_type": "code",
   "execution_count": null,
   "metadata": {},
   "outputs": [],
   "source": [
    "#EJERCICIO 2!"
   ]
  },
  {
   "cell_type": "code",
   "execution_count": null,
   "metadata": {},
   "outputs": [],
   "source": [
    "import sys\n",
    "import os\n",
    "sys.path.append(os.path.abspath(\"../src\"))\n",
    "from funciones.Renglon import RenglonMasLargo\n",
    "titles = [\n",
    "    \"SpeedRun de Super Mario en tiempo record\",\n",
    "    \"Charla sobre desarrollo de videojuegos\",\n",
    "    \"Jugando al nuevo FPS del momento con amigos\",\n",
    "    \"Musica rn vivo: improvisaciones al piano\"\n",
    "]\n",
    "\n",
    "titulos_separados = [titulo.split() for titulo in titles] # titulos_separados sera una lista de lista\n",
    "#donde las sublistas tendran como contenido las palabras separas de cada oracion de titles\n",
    "print(titulos_separados)\n",
    "\n",
    "print('MOSTRAR EN PANTALLA EL TITULO CON MAS PALABRAS')\n",
    "RenglonMasLargo(titulos_separados)"
   ]
  },
  {
   "cell_type": "code",
   "execution_count": null,
   "metadata": {},
   "outputs": [],
   "source": [
    "#EJERCICIO 3!"
   ]
  },
  {
   "cell_type": "code",
   "execution_count": null,
   "metadata": {},
   "outputs": [],
   "source": [
    "import sys\n",
    "import os\n",
    "sys.path.append(os.path.abspath(\"../src\"))\n",
    "from funciones.BusquedaClave import buscarClave\n",
    "rules = \"\"\"Respeta a los demás. No se permiten insultos ni lenguaje\n",
    "ofensivo.\n",
    "Evita el spam. No publiques enlaces sospechosos o repetitivos.\n",
    "No compartas información personal.\n",
    "Usa los canales adecuados para cada tema.\n",
    "Sigue las instrucciones de los moderadores.\"\"\"\n",
    "\n",
    "reglas_separas = rules.lower().split(\".\")\n",
    "\n",
    "clave = input('ingrese palabra clave')\n",
    "\n",
    "buscarClave(reglas_separas,clave)"
   ]
  },
  {
   "cell_type": "code",
   "execution_count": null,
   "metadata": {},
   "outputs": [],
   "source": [
    "#EJERCICIO 4!"
   ]
  },
  {
   "cell_type": "code",
   "execution_count": null,
   "metadata": {},
   "outputs": [],
   "source": [
    "import sys\n",
    "import os\n",
    "sys.path.append(os.path.abspath(\"../src\"))\n",
    "from funciones.ValidacionUsuario import validarUsuario\n",
    "\n",
    "usuario = input('Ingrese nombre de usuario')\n",
    "\n",
    "if validarUsuario(usuario) :\n",
    "    print('El nombre de usuario es valido')\n",
    "else :\n",
    "    print('El nombre del usuario no cumple con los requisitos')\n"
   ]
  },
  {
   "cell_type": "code",
   "execution_count": null,
   "metadata": {},
   "outputs": [],
   "source": [
    "#EJERCICIO 5"
   ]
  },
  {
   "cell_type": "code",
   "execution_count": null,
   "metadata": {},
   "outputs": [],
   "source": [
    "import sys\n",
    "import os\n",
    "sys.path.append(os.path.abspath(\"../src\"))\n",
    "from funciones.Clasificacion import clasificarCategoria\n",
    "ms = input()\n",
    "print('Ingrese su tiempo de reaccion en ms :' , ms)\n",
    "respuesta = \"\"\n",
    "print('Categoria : ', clasificarCategoria(ms,respuesta))\n"
   ]
  },
  {
   "cell_type": "code",
   "execution_count": null,
   "metadata": {},
   "outputs": [],
   "source": [
    "#EJERCICIO 6"
   ]
  },
  {
   "cell_type": "code",
   "execution_count": null,
   "metadata": {},
   "outputs": [],
   "source": [
    "import sys\n",
    "import os\n",
    "sys.path.append(os.path.abspath(\"../src\"))\n",
    "from funciones.ConteoPalabras import conteo\n",
    "\n",
    "descriptions = [\n",
    "\"Streaming de música en vivo con covers y composiciones\",\n",
    "\"Charla interactiva con la audiencia sobre series y películas\",\n",
    "\"Jugamos a juegos retro y charlamos sobre su historia\",\n",
    "\"Exploramos la mejor música de los 80s y 90s\",\n",
    "\"Programa de entretenimiento con noticias y curiosidades del mundo gamer\",\n",
    "\"Sesión de charla con invitados especiales del mundo del streaming\",\n",
    "\"Música en directo con improvisaciones y peticiones del chat\",\n",
    "\"Un espacio para charlar relajada sobre tecnología y cultura digital\",\n",
    "\"Exploramos el impacto de la música en los videojuegos clásicos\"]\n",
    "\n",
    "descripciones = tuple([desc] for desc in descriptions) # me organize en una tupla, listas de cada descripcion para recorrer cada descripcion y verificar si se encuentra alguna de las tres palabras.\n",
    "\n",
    "conteo(descripciones)\n"
   ]
  },
  {
   "cell_type": "code",
   "execution_count": null,
   "metadata": {},
   "outputs": [],
   "source": [
    "# EJERCICIO 7"
   ]
  },
  {
   "cell_type": "code",
   "execution_count": null,
   "metadata": {},
   "outputs": [],
   "source": [
    "import sys\n",
    "import os\n",
    "import random\n",
    "import string\n",
    "sys.path.append(os.path.abspath(\"../src\"))\n",
    "from funciones.ValidacionUsuario import validarUsuario15\n",
    "\n",
    "\n",
    "resto = string.digits + string.ascii_uppercase\n",
    "\n",
    "usuario = input(print('ingrese usuario'))\n",
    "print('ingresar la fecha actual con numeros sin espacios, ingresando primero el año segundo el mes y por ultimo el numero')\n",
    "fecha = input(print('ingresar fecha actual'))\n",
    "print('Codigo de descuento : ',validarUsuario15(usuario,fecha,resto))\n"
   ]
  },
  {
   "cell_type": "code",
   "execution_count": null,
   "metadata": {},
   "outputs": [],
   "source": [
    "#EJERCICIO 8"
   ]
  },
  {
   "cell_type": "code",
   "execution_count": null,
   "metadata": {},
   "outputs": [],
   "source": [
    "import sys\n",
    "import os\n",
    "sys.path.append(os.path.abspath(\"../src\"))\n",
    "from funciones.VerificacionAnagrama import anagrama\n",
    "\n",
    "pp = input(print('ingrese la primer palabra'))\n",
    "\n",
    "sp = input(print('ingrese la segunda palabra'))\n",
    "\n",
    "\n",
    "if anagrama(pp,sp) :\n",
    "    print('Son anagramas')\n",
    "else :\n",
    "    print('No son anagramas')\n"
   ]
  },
  {
   "cell_type": "code",
   "execution_count": null,
   "metadata": {},
   "outputs": [],
   "source": [
    "# EJERCICIO 9"
   ]
  },
  {
   "cell_type": "code",
   "execution_count": null,
   "metadata": {},
   "outputs": [],
   "source": [
    "import sys\n",
    "import os\n",
    "sys.path.append(os.path.abspath(\"../src\"))\n",
    "from funciones.LimpiarNombres import eliminarEspacios\n",
    "\n",
    "clients = [\n",
    "\"  Ana López \", \"Pedro Gómez\", \"maria martínez\", \"Pedro Gómez \", \"\",\n",
    "\" Luis Rodríguez \", None, \"ana lópez\", \"JUAN PÉREZ\", \"MARTA SUÁREZ\",\n",
    "\"luis rodríguez\", \"maría martínez \", \" claudia torres\", \"CLAUDIA TORRES\",\n",
    "\"  \", \"pedro gómez\", \"Juan Pérez\", None, \"Ricardo Fernández\", \"LAURARAMOS\",\n",
    "\"carlos mendes\", \"RICARDO FERNÁNDEZ  \", \" Laura ramos\", \"CARLOS MENDES\",\n",
    "\"alejandro gonzález\", \" ALEJANDRO GONZÁLEZ  \", \"Patricia Vega\",\n",
    "\"patricia VEGA\", \"Andrés Ocampo\", \"  andrés ocampo\", \"Monica Herrera\",\n",
    "\"MONICA HERRERA  \", \"gabriela ruíz\", \"Gabriela Ruíz\", \"sandra morales\",\n",
    "\"SANDRA MORALES\", \"miguel ángel\", \"Miguel Ángel \", \" Damián Castillo\",\n",
    "\"Damián Castillo  \", None, \"\", \"  \"\n",
    "]\n",
    "\n",
    "listaLimpia = []\n",
    "for names in clients :              # en names me guardo cada valor de la lista de clientes\n",
    "    if names not in [None,\"\",\" \"] : # pregunto si el nombre a evaluar no se encuentra en esa lista de valores que no quiero evaluar\n",
    "        names = names.strip().split(\" \") # le saco los espacios y divido la palabra a evaluar\n",
    "        if len(names) == 2: # si son dos palabras, tengo nombre y apellido, mando a traves de indices el nombre y apellido a la funcion que :\n",
    "            nombre = ((eliminarEspacios(names[0])) + \" \" + (eliminarEspacios(names[1]))) # saco espacios y estandarizo las dos palabras \n",
    "            if nombre not in listaLimpia :              #si el nombre que modifique no esta en la lista que cree,lo agrego\n",
    "                listaLimpia.append(nombre)              # cumple la condicion agrego el nombre a la lista\n",
    "listaLimpia\n"
   ]
  },
  {
   "cell_type": "code",
   "execution_count": null,
   "metadata": {},
   "outputs": [],
   "source": [
    "# EJERCICIO 10"
   ]
  },
  {
   "cell_type": "code",
   "execution_count": 1,
   "metadata": {},
   "outputs": [
    {
     "name": "stdout",
     "output_type": "stream",
     "text": [
      " Ranking ronda 1\n",
      "JUGADOR      KILLS       ASISTENCIAS     MUERTES     MVPS        PUNTOS\n",
      "Shadow    2    1    1    1    6\n",
      "Viper    1    2    1    0    4\n",
      "Reaper    1    1    0    0    4\n",
      "Blaze    1    0    0    0    3\n",
      "Frost    0    1    0    0    1\n",
      "----------------------------------------\n",
      " Ranking ronda 2\n",
      "JUGADOR      KILLS       ASISTENCIAS     MUERTES     MVPS        PUNTOS\n",
      "Shadow    2    3    1    2    8\n",
      "Blaze    3    0    1    0    8\n",
      "Viper    2    3    1    0    8\n",
      "Frost    2    2    1    0    7\n",
      "Reaper    1    2    0    0    5\n",
      "----------------------------------------\n",
      " Ranking ronda 3\n",
      "JUGADOR      KILLS       ASISTENCIAS     MUERTES     MVPS        PUNTOS\n",
      "Blaze    5    2    2    1    15\n",
      "Shadow    3    3    1    2    11\n",
      "Viper    3    4    2    0    11\n",
      "Reaper    2    3    0    0    9\n",
      "Frost    2    3    1    0    8\n",
      "----------------------------------------\n",
      " Ranking ronda 4\n",
      "JUGADOR      KILLS       ASISTENCIAS     MUERTES     MVPS        PUNTOS\n",
      "Shadow    5    4    1    3    18\n",
      "Blaze    6    2    3    1    17\n",
      "Viper    3    6    2    0    13\n",
      "Reaper    3    4    0    0    13\n",
      "Frost    3    4    2    0    11\n",
      "----------------------------------------\n",
      "Rankin final\n",
      "JUGADOR      KILLS       ASISTENCIAS     MUERTES     MVPS        PUNTOS\n",
      "Shadow    6    6    2    4    22\n",
      "Blaze    6    3    3    1    18\n",
      "Viper    5    6    3    0    18\n",
      "Reaper    4    5    1    0    16\n",
      "Frost    4    5    2    0    15\n",
      "----------------------------------------\n"
     ]
    }
   ],
   "source": [
    "import sys\n",
    "import os\n",
    "sys.path.append(os.path.abspath(\"../src\"))\n",
    "from funciones.Jugadores import cargarInformacionJugadores\n",
    "from funciones.Jugadores import MayorPuntaje\n",
    "\n",
    "\n",
    "\n",
    "rounds = [\n",
    "{\n",
    "'Shadow': {'kills': 2, 'assists': 1, 'deaths': True},\n",
    "'Blaze': {'kills': 1, 'assists': 0, 'deaths': False},\n",
    "'Viper': {'kills': 1, 'assists': 2, 'deaths': True},\n",
    "'Frost': {'kills': 0, 'assists': 1, 'deaths': False},\n",
    "'Reaper': {'kills': 1, 'assists': 1, 'deaths': False}\n",
    "},\n",
    "{\n",
    "'Shadow': {'kills': 0, 'assists': 2, 'deaths': False},\n",
    "'Blaze': {'kills': 2, 'assists': 0, 'deaths': True},\n",
    "'Viper': {'kills': 1, 'assists': 1, 'deaths': False},\n",
    "'Frost': {'kills': 2, 'assists': 1, 'deaths': True},\n",
    "'Reaper': {'kills': 0, 'assists': 1, 'deaths': False}\n",
    "},\n",
    "{\n",
    "'Shadow': {'kills': 1, 'assists': 0, 'deaths': False},\n",
    "'Blaze': {'kills': 2, 'assists': 2, 'deaths': True},\n",
    "'Viper': {'kills': 1, 'assists': 1, 'deaths': True},\n",
    "'Frost': {'kills': 0, 'assists': 1, 'deaths': False},\n",
    "'Reaper': {'kills': 1, 'assists': 1, 'deaths': False}\n",
    "},\n",
    "{\n",
    "'Shadow': {'kills': 2, 'assists': 1, 'deaths': False},\n",
    "'Blaze': {'kills': 1, 'assists': 0, 'deaths': True},\n",
    "'Viper': {'kills': 0, 'assists': 2, 'deaths': False},\n",
    "'Frost': {'kills': 1, 'assists': 1, 'deaths': True},\n",
    "'Reaper': {'kills': 1, 'assists': 1, 'deaths': False}\n",
    "},\n",
    "{\n",
    "'Shadow': {'kills': 1, 'assists': 2, 'deaths': True},\n",
    "'Blaze': {'kills': 0, 'assists': 1, 'deaths': False},\n",
    "'Viper': {'kills': 2, 'assists': 0, 'deaths': True},\n",
    "'Frost': {'kills': 1, 'assists': 1, 'deaths': False},\n",
    "'Reaper': {'kills': 1, 'assists': 1, 'deaths': True}\n",
    "}\n",
    "]\n",
    "# Jugadores es un diccionario donde guardare toda la informacion de los jugadores\n",
    "Jugadores = {} # cada jugador tendra un diccionario, en el diccionario las claves tendran listas donde ire acumulado sus \n",
    "mvps = {}\n",
    "puntos = {}\n",
    "i = 1\n",
    "\n",
    "for claves in rounds[0].keys() : # inicializo mi diccionario \n",
    "    Jugadores[claves] = {\"kills\" : 0 , \"asistencia\" : 0, \"muertes\" : 0, \"puntuacion\":0, \"mvp\" : 0}\n",
    "    mvps[claves] = 0 \n",
    "    puntos[claves] = 0\n",
    "for ronda in rounds :\n",
    "    if i != 5 :\n",
    "        print(f' Ranking ronda {i}')\n",
    "    else :\n",
    "        print('Rankin final')\n",
    "    for clave, valor in ronda.items():\n",
    "        cargarInformacionJugadores(clave,valor,Jugadores) # le paso una ronda, un diccionario con toda la informacion de los jugadores EN LA RONDA n\n",
    "        puntos[clave] = Jugadores[clave][\"puntuacion\"] # diccionario donde me voy guardando los puntos de los jugadores para luego ayudar a ordenarme por ronda los valores de los jugadores\n",
    "    mvps[MayorPuntaje(Jugadores)] += 1 # en el diccionario de MVP´S voy a ir acumulando en la clave que me devuelva la funcion\n",
    "    i += 1\n",
    "    print('JUGADOR      KILLS       ASISTENCIAS     MUERTES     MVPS        PUNTOS')\n",
    "    ranking = sorted(puntos.items(), key=lambda item: item[1], reverse=True) # sera una lista ordenada de los jugadores por ronda\n",
    "    for clave, valor in ranking:        # recorro esa lista guardandome el jugador y su contenido\n",
    "        print ( clave + '    '+  str(Jugadores[clave][\"kills\"])+ '    '+ str(Jugadores[clave][\"asistencia\"]) + '    '+  str(Jugadores[clave][\"muertes\"]) + '    '+  str(mvps[clave]) + '    '+  str(Jugadores[clave][\"puntuacion\"]))\n",
    "    print('-' * 40)\n"
   ]
  }
 ],
 "metadata": {
  "kernelspec": {
   "display_name": "venv",
   "language": "python",
   "name": "python3"
  },
  "language_info": {
   "codemirror_mode": {
    "name": "ipython",
    "version": 3
   },
   "file_extension": ".py",
   "mimetype": "text/x-python",
   "name": "python",
   "nbconvert_exporter": "python",
   "pygments_lexer": "ipython3",
   "version": "3.12.8"
  }
 },
 "nbformat": 4,
 "nbformat_minor": 2
}
