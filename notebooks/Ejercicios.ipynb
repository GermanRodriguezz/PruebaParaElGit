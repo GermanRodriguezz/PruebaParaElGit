{
 "cells": [
  {
   "cell_type": "code",
   "execution_count": null,
   "metadata": {},
   "outputs": [],
   "source": [
    "import this\n",
    "import sys\n",
    "import os\n",
    "sys.path.append(os.path.abspath(\"../src\"))\n",
    "from funciones.vocales import verificar_vocal\n",
    "\n",
    "zen_text = \"\"\"\"     \n",
    "The Zen of Python, by Tim Peters\n",
    "\n",
    "Beautiful is better than ugly.\n",
    "Explicit is better than implicit.\n",
    "Simple is better than complex.\n",
    "Complex is better than complicated.\n",
    "Flat is better than nested.\n",
    "Sparse is better than dense.\n",
    "Readability counts.\n",
    "Special cases aren't special enough to break the rules.\n",
    "Although practicality beats purity.\n",
    "Errors should never pass silently.\n",
    "Unless explicitly silenced.\n",
    "In the face of ambiguity, refuse the temptation to guess.\n",
    "There should be one-- and preferably only one --obvious way to do it.\n",
    "Although that way may not be obvious at first unless you're Dutch.\n",
    "Now is better than never.\n",
    "Although never is often better than right now.\n",
    "If the implementation is hard to explain, it's a bad idea.\n",
    "If the implementation is easy to explain, it may be a good idea.\n",
    "Namespaces are one honking great idea -- let's do more of those!\n",
    "\"\"\"\n",
    "texto = zen_text.splitlines() # divido el texto en renglones\n",
    "lista = ('A','E','I','O','U','a','e','i','o','u') #me guardo las vocales a buscar en las segundas palabras de mi\n",
    "\n",
    "for renglon in texto: #voy a recorrer la lista de palabras separas por lineas\n",
    "    if verificar_vocal(renglon,lista): # invoco a la funcion\n",
    "        print(renglon)"
   ]
  },
  {
   "cell_type": "code",
   "execution_count": null,
   "metadata": {},
   "outputs": [],
   "source": [
    "#EJERCICIO 2!"
   ]
  },
  {
   "cell_type": "code",
   "execution_count": null,
   "metadata": {},
   "outputs": [],
   "source": [
    "import sys\n",
    "import os\n",
    "sys.path.append(os.path.abspath(\"../src\"))\n",
    "from funciones.Renglon import RenglonMasLargo\n",
    "titles = [\n",
    "    \"SpeedRun de Super Mario en tiempo record\",\n",
    "    \"Charla sobre desarrollo de videojuegos\",\n",
    "    \"Jugando al nuevo FPS del momento con amigos\",\n",
    "    \"Musica rn vivo: improvisaciones al piano\"\n",
    "]\n",
    "\n",
    "titulos_separados = [titulo.split() for titulo in titles] # titulos_separados sera una lista de lista\n",
    "#donde las sublistas tendran como contenido las palabras de cada oracion de titles\n",
    "print(titulos_separados)\n",
    "\n",
    "print('MOSTRAR EN PANTALLA EL TITULO CON MAS PALABRAS')\n",
    "RenglonMasLargo(titulos_separados)"
   ]
  },
  {
   "cell_type": "code",
   "execution_count": null,
   "metadata": {},
   "outputs": [],
   "source": [
    "#EJERCICIO 3!"
   ]
  },
  {
   "cell_type": "code",
   "execution_count": null,
   "metadata": {},
   "outputs": [],
   "source": [
    "import sys\n",
    "import os\n",
    "sys.path.append(os.path.abspath(\"../src\"))\n",
    "from funciones.BusquedaClave import buscarClave\n",
    "rules = \"\"\"Respeta a los demás. No se permiten insultos ni lenguaje\n",
    "ofensivo.\n",
    "Evita el spam. No publiques enlaces sospechosos o repetitivos.\n",
    "No compartas información personal.\n",
    "Usa los canales adecuados para cada tema.\n",
    "Sigue las instrucciones de los moderadores.\"\"\"\n",
    "\n",
    "reglas_separas = rules.split(\".\") \n",
    "\n",
    "clave = input('ingrese palabra clave')\n",
    "\n",
    "buscarClave(reglas_separas,clave)"
   ]
  },
  {
   "cell_type": "code",
   "execution_count": null,
   "metadata": {},
   "outputs": [],
   "source": [
    "#EJERCICIO 4!"
   ]
  },
  {
   "cell_type": "code",
   "execution_count": null,
   "metadata": {},
   "outputs": [],
   "source": [
    "import sys\n",
    "import os\n",
    "sys.path.append(os.path.abspath(\"../src\"))\n",
    "from funciones.ValidacionUsuario import validarUsuario\n",
    "\n",
    "usuario = input('Ingrese nombre de usuario')\n",
    "\n",
    "if validarUsuario(usuario) :\n",
    "    print('El nombre de usuario es valido')\n",
    "else :\n",
    "    print('El nombre del usuario no cumple con los requisitos')\n"
   ]
  },
  {
   "cell_type": "code",
   "execution_count": null,
   "metadata": {},
   "outputs": [],
   "source": [
    "#EJERCICIO 5"
   ]
  },
  {
   "cell_type": "code",
   "execution_count": null,
   "metadata": {},
   "outputs": [],
   "source": [
    "import sys\n",
    "import os\n",
    "sys.path.append(os.path.abspath(\"../src\"))\n",
    "from funciones.Clasificacion import clasificarCategoria\n",
    "ms = input()\n",
    "print('Ingrese su tiempo de reaccion en ms :' , ms)\n",
    "respuesta = \"\"\n",
    "print('Categoria : ', clasificarCategoria(ms,respuesta))\n"
   ]
  },
  {
   "cell_type": "code",
   "execution_count": null,
   "metadata": {},
   "outputs": [],
   "source": [
    "#EJERCICIO 6"
   ]
  },
  {
   "cell_type": "code",
   "execution_count": null,
   "metadata": {},
   "outputs": [],
   "source": [
    "import sys\n",
    "import os\n",
    "sys.path.append(os.path.abspath(\"../src\"))\n",
    "from funciones.ConteoPalabras import conteo\n",
    "\n",
    "descriptions = [\n",
    "\"Streaming de música en vivo con covers y composiciones\",\n",
    "\"Charla interactiva con la audiencia sobre series y películas\",\n",
    "\"Jugamos a juegos retro y charlamos sobre su historia\",\n",
    "\"Exploramos la mejor música de los 80s y 90s\",\n",
    "\"Programa de entretenimiento con noticias y curiosidades del mundo gamer\",\n",
    "\"Sesión de charla con invitados especiales del mundo del streaming\",\n",
    "\"Música en directo con improvisaciones y peticiones del chat\",\n",
    "\"Un espacio para charlar relajada sobre tecnología y cultura digital\",\n",
    "\"Exploramos el impacto de la música en los videojuegos clásicos\"]\n",
    "\n",
    "descripciones = tuple([desc] for desc in descriptions) # me organize en una tupla, listas de cada descripcion para recorrer cada descripcion y verificar si se encuentra alguna de las tres palabras.\n",
    "\n",
    "menciones = {}\n",
    "\n",
    "conteo(descripciones)# cada lista de mi tupla se guardara en mi variable lista,que se la paso a la funcion\n"
   ]
  },
  {
   "cell_type": "code",
   "execution_count": null,
   "metadata": {},
   "outputs": [],
   "source": [
    "# EJERCICIO 7"
   ]
  },
  {
   "cell_type": "code",
   "execution_count": null,
   "metadata": {},
   "outputs": [],
   "source": [
    "import sys\n",
    "import os\n",
    "import random\n",
    "import string\n",
    "sys.path.append(os.path.abspath(\"../src\"))\n",
    "from funciones.ValidacionUsuario import validarUsuario15\n",
    "\n",
    "\n",
    "resto = string.digits + string.ascii_uppercase\n",
    "\n",
    "usuario = input(print('ingrese usuario'))\n",
    "print('ingresar la fecha actual con numeros sin espacios, ingresando primero el año segundo el mes y por ultimo el numero')\n",
    "fecha = input(print('ingresar fecha actual'))\n",
    "print('Codigo de descuento : ',validarUsuario15(usuario,fecha,resto))\n"
   ]
  },
  {
   "cell_type": "code",
   "execution_count": null,
   "metadata": {},
   "outputs": [],
   "source": [
    "#EJERCICIO 8"
   ]
  },
  {
   "cell_type": "code",
   "execution_count": null,
   "metadata": {},
   "outputs": [],
   "source": [
    "import sys\n",
    "import os\n",
    "sys.path.append(os.path.abspath(\"../src\"))\n",
    "from funciones.VerificacionAnagrama import anagrama\n",
    "\n",
    "pp = input(print('ingrese la primer palabra'))\n",
    "\n",
    "sp = input(print('ingrese la segunda palabra'))\n",
    "\n",
    "\n",
    "if anagrama(pp,sp) :\n",
    "    print('Son anagramas')\n",
    "else :\n",
    "    print('No son anagramas')\n"
   ]
  }
 ],
 "metadata": {
  "kernelspec": {
   "display_name": "venv",
   "language": "python",
   "name": "python3"
  },
  "language_info": {
   "codemirror_mode": {
    "name": "ipython",
    "version": 3
   },
   "file_extension": ".py",
   "mimetype": "text/x-python",
   "name": "python",
   "nbconvert_exporter": "python",
   "pygments_lexer": "ipython3",
   "version": "3.12.8"
  }
 },
 "nbformat": 4,
 "nbformat_minor": 2
}
