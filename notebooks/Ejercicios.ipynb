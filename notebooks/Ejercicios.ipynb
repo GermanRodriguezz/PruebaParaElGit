{
 "cells": [
  {
   "cell_type": "code",
   "execution_count": null,
   "metadata": {},
   "outputs": [],
   "source": [
    "import this\n",
    "import sys\n",
    "import os\n",
    "sys.path.append(os.path.abspath(\"../src\"))\n",
    "from funciones.vocales import verificar_vocal\n",
    "\n",
    "zen_text = \"\"\"\"     \n",
    "The Zen of Python, by Tim Peters\n",
    "\n",
    "Beautiful is better than ugly.\n",
    "Explicit is better than implicit.\n",
    "Simple is better than complex.\n",
    "Complex is better than complicated.\n",
    "Flat is better than nested.\n",
    "Sparse is better than dense.\n",
    "Readability counts.\n",
    "Special cases aren't special enough to break the rules.\n",
    "Although practicality beats purity.\n",
    "Errors should never pass silently.\n",
    "Unless explicitly silenced.\n",
    "In the face of ambiguity, refuse the temptation to guess.\n",
    "There should be one-- and preferably only one --obvious way to do it.\n",
    "Although that way may not be obvious at first unless you're Dutch.\n",
    "Now is better than never.\n",
    "Although never is often better than right now.\n",
    "If the implementation is hard to explain, it's a bad idea.\n",
    "If the implementation is easy to explain, it may be a good idea.\n",
    "Namespaces are one honking great idea -- let's do more of those!\n",
    "\"\"\"\n",
    "texto = zen_text.splitlines() # divido el texto en renglones\n",
    "lista = ('A','E','I','O','U','a','e','i','o','u') #me guardo las vocales a buscar en las segundas palabras de mi\n",
    "\n",
    "for renglon in texto: #voy a recorrer la lista de palabras separas por lineas\n",
    "    if verificar_vocal(renglon,lista): # invoco a la funcion\n",
    "        print(renglon)"
   ]
  },
  {
   "cell_type": "code",
   "execution_count": null,
   "metadata": {},
   "outputs": [],
   "source": [
    "#EJERCICIO 2!"
   ]
  },
  {
   "cell_type": "code",
   "execution_count": null,
   "metadata": {},
   "outputs": [
    {
     "ename": "ModuleNotFoundError",
     "evalue": "No module named 'funciones'",
     "output_type": "error",
     "traceback": [
      "\u001b[31m---------------------------------------------------------------------------\u001b[39m",
      "\u001b[31mModuleNotFoundError\u001b[39m                       Traceback (most recent call last)",
      "\u001b[36mCell\u001b[39m\u001b[36m \u001b[39m\u001b[32mIn[4]\u001b[39m\u001b[32m, line 1\u001b[39m\n\u001b[32m----> \u001b[39m\u001b[32m1\u001b[39m \u001b[38;5;28;01mfrom\u001b[39;00m\u001b[38;5;250m \u001b[39m\u001b[34;01mfunciones\u001b[39;00m\u001b[34;01m.\u001b[39;00m\u001b[34;01mRenglon\u001b[39;00m\u001b[38;5;250m \u001b[39m\u001b[38;5;28;01mimport\u001b[39;00m RenglonMasLargo\n\u001b[32m      2\u001b[39m titles = [\n\u001b[32m      3\u001b[39m     \u001b[33m\"\u001b[39m\u001b[33mSpeedRun de Super Mario en tiempo record\u001b[39m\u001b[33m\"\u001b[39m,\n\u001b[32m      4\u001b[39m     \u001b[33m\"\u001b[39m\u001b[33mCharla sobre desarrollo de videojuegos\u001b[39m\u001b[33m\"\u001b[39m,\n\u001b[32m      5\u001b[39m     \u001b[33m\"\u001b[39m\u001b[33mJugando al nuevo FPS del momento con amigos\u001b[39m\u001b[33m\"\u001b[39m,\n\u001b[32m      6\u001b[39m     \u001b[33m\"\u001b[39m\u001b[33mMusica rn vivo: improvisaciones al piano\u001b[39m\u001b[33m\"\u001b[39m\n\u001b[32m      7\u001b[39m ]\n\u001b[32m      9\u001b[39m titulos_separados = [titulo.split() \u001b[38;5;28;01mfor\u001b[39;00m titulo \u001b[38;5;129;01min\u001b[39;00m titles] \u001b[38;5;66;03m# titulos_separados sera una lista de lista\u001b[39;00m\n",
      "\u001b[31mModuleNotFoundError\u001b[39m: No module named 'funciones'"
     ]
    }
   ],
   "source": [
    "import sys\n",
    "import os\n",
    "sys.path.append(os.path.abspath(\"../src\"))\n",
    "from funciones.Renglon import RenglonMasLargo\n",
    "titles = [\n",
    "    \"SpeedRun de Super Mario en tiempo record\",\n",
    "    \"Charla sobre desarrollo de videojuegos\",\n",
    "    \"Jugando al nuevo FPS del momento con amigos\",\n",
    "    \"Musica rn vivo: improvisaciones al piano\"\n",
    "]\n",
    "\n",
    "titulos_separados = [titulo.split() for titulo in titles] # titulos_separados sera una lista de lista\n",
    "#donde las sublistas tendran como contenido las palabras de cada oracion de titles\n",
    "print(titulos_separados)\n",
    "\n",
    "print('MOSTRAR EN PANTALLA EL TITULO CON MAS PALABRAS')\n",
    "RenglonMasLargo(titulos_separados)"
   ]
  }
 ],
 "metadata": {
  "kernelspec": {
   "display_name": "venv",
   "language": "python",
   "name": "python3"
  },
  "language_info": {
   "codemirror_mode": {
    "name": "ipython",
    "version": 3
   },
   "file_extension": ".py",
   "mimetype": "text/x-python",
   "name": "python",
   "nbconvert_exporter": "python",
   "pygments_lexer": "ipython3",
   "version": "3.12.8"
  }
 },
 "nbformat": 4,
 "nbformat_minor": 2
}
